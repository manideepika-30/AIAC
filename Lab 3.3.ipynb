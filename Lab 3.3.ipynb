{
  "nbformat": 4,
  "nbformat_minor": 0,
  "metadata": {
    "colab": {
      "provenance": [],
      "authorship_tag": "ABX9TyPIWfKKC/pmCzctP6yX3Ik6",
      "include_colab_link": true
    },
    "kernelspec": {
      "name": "python3",
      "display_name": "Python 3"
    },
    "language_info": {
      "name": "python"
    }
  },
  "cells": [
    {
      "cell_type": "markdown",
      "metadata": {
        "id": "view-in-github",
        "colab_type": "text"
      },
      "source": [
        "<a href=\"https://colab.research.google.com/github/manideepika-30/AIAC/blob/main/Lab%203.3.ipynb\" target=\"_parent\"><img src=\"https://colab.research.google.com/assets/colab-badge.svg\" alt=\"Open In Colab\"/></a>"
      ]
    },
    {
      "cell_type": "code",
      "execution_count": null,
      "metadata": {
        "id": "5PGZefh7iITH"
      },
      "outputs": [],
      "source": [
        "Write a Python function called factorial that takes a non-negative integer n and returns its factorial using an iterative for loop. Ensure it raises a ValueError for negative inputs."
      ]
    },
    {
      "cell_type": "code",
      "metadata": {
        "id": "d195b692"
      },
      "source": [
        "def factorial(n):\n",
        "  \"\"\"\n",
        "  Calculates the factorial of a non-negative integer using an iterative for loop.\n",
        "\n",
        "  Args:\n",
        "    n: A non-negative integer.\n",
        "\n",
        "  Returns:\n",
        "    The factorial of n.\n",
        "\n",
        "  Raises:\n",
        "    ValueError: If n is a negative integer.\n",
        "  \"\"\"\n",
        "  if n < 0:\n",
        "    raise ValueError(\"Factorial is not defined for negative numbers\")\n",
        "  elif n == 0:\n",
        "    return 1\n",
        "  else:\n",
        "    result = 1\n",
        "    for i in range(1, n + 1):\n",
        "      result *= i\n",
        "    return result\n",
        "\n",
        "# Example usage\n",
        "print(factorial(5))\n",
        "print(factorial(0))\n",
        "# print(factorial(-1)) # Uncomment this line to test the ValueError"
      ],
      "execution_count": null,
      "outputs": []
    },
    {
      "cell_type": "markdown",
      "source": [
        "This code defines a Python function called factorial that calculates the factorial of a non-negative integer.\n",
        "\n",
        "Here's a breakdown:\n",
        "\n",
        "Function Definition:\n",
        "def factorial(n): defines a function named factorial that takes one argument, n.\n",
        "Docstring:\n",
        "The triple-quoted string is a docstring, explaining what the function does, its arguments (Args), what it returns (Returns), and potential errors it raises (Raises).\n",
        "Handling Negative Input:\n",
        "if n < 0: checks if the input n is negative.\n",
        "raise ValueError(\"Factorial is not defined for negative numbers\") raises a ValueError with a descriptive message if n is negative, as factorials are not defined for negative numbers.\n",
        "Handling Zero:\n",
        "elif n == 0: checks if the input n is zero.\n",
        "return 1 returns 1, as the factorial of 0 is defined as 1.\n",
        "Calculating Factorial for Positive Integers:\n",
        "else: handles the case where n is a positive integer.\n",
        "result = 1 initializes a variable result to 1. This will store the calculated factorial.\n",
        "for i in range(1, n + 1): starts a for loop that iterates from 1 up to and including n.\n",
        "result *= i multiplies the current value of result by the loop variable i in each iteration. This is the core of the iterative factorial calculation.\n",
        "return result returns the final calculated factorial stored in the result variable.\n",
        "Example Usage:\n",
        "print(factorial(5)) calls the function with n=5 and prints the result (which should be 120).\n",
        "print(factorial(0)) calls the function with n=0 and prints the result (which should be 1).\n",
        "# print(factorial(-1)) is a commented-out line that, if uncommented, would call the function with n=-1 and demonstrate the ValueError being raised."
      ],
      "metadata": {
        "id": "mKzqsOhyjiKX"
      }
    },
    {
      "cell_type": "code",
      "source": [
        "Implement a recursive Python function factorial(n) that computes the factorial of n according to the definition n! = n × (n-1)! with 0! = 1. Include a docstring explaining its behavior."
      ],
      "metadata": {
        "id": "-KdSAhLyjq70"
      },
      "execution_count": null,
      "outputs": []
    },
    {
      "cell_type": "code",
      "metadata": {
        "id": "603aa24c"
      },
      "source": [
        "def factorial_recursive(n):\n",
        "  \"\"\"\n",
        "  Calculates the factorial of a non-negative integer recursively.\n",
        "\n",
        "  Args:\n",
        "    n: A non-negative integer.\n",
        "\n",
        "  Returns:\n",
        "    The factorial of n.\n",
        "\n",
        "  Raises:\n",
        "    ValueError: If n is a negative integer.\n",
        "  \"\"\"\n",
        "  if n < 0:\n",
        "    raise ValueError(\"Factorial is not defined for negative numbers\")\n",
        "  elif n == 0:\n",
        "    return 1\n",
        "  else:\n",
        "    return n * factorial_recursive(n - 1)\n",
        "\n",
        "# Example usage\n",
        "print(factorial_recursive(5))\n",
        "print(factorial_recursive(0))\n",
        "# print(factorial_recursive(-1)) # Uncomment this line to test the ValueError"
      ],
      "execution_count": null,
      "outputs": []
    },
    {
      "cell_type": "markdown",
      "source": [
        "Certainly! This code defines a Python function called factorial_recursive that calculates the factorial of a non-negative integer using recursion.\n",
        "\n",
        "Here's a breakdown:\n",
        "\n",
        "Function Definition:\n",
        "def factorial_recursive(n): defines a function named factorial_recursive that takes one argument, n.\n",
        "Docstring:\n",
        "The triple-quoted string is a docstring, explaining what the function does, its arguments (Args), what it returns (Returns), and potential errors it raises (Raises).\n",
        "Handling Negative Input:\n",
        "if n < 0: checks if the input n is negative.\n",
        "raise ValueError(\"Factorial is not defined for negative numbers\") raises a ValueError with a descriptive message if n is negative, as factorials are not defined for negative numbers.\n",
        "Base Case (Handling Zero):\n",
        "elif n == 0: checks if the input n is zero. This is the base case for the recursion.\n",
        "return 1 returns 1, as the factorial of 0 is defined as 1. This stops the recursive calls when n reaches 0.\n",
        "Recursive Step (Handling Positive Integers):\n",
        "else: handles the case where n is a positive integer.\n",
        "return n * factorial_recursive(n - 1) is the recursive step. It calculates the factorial by multiplying n by the result of calling factorial_recursive with n - 1. This process continues until the base case (n == 0) is reached.\n",
        "Example Usage:\n",
        "print(factorial_recursive(5)) calls the function with n=5 and prints the result (which should be 120).\n",
        "print(factorial_recursive(0)) calls the function with n=0 and prints the result (which should be 1).\n",
        "# print(factorial_recursive(-1)) is a commented-out line that, if uncommented, would call the function with n=-1 and demonstrate the ValueError being raised.\n"
      ],
      "metadata": {
        "id": "fGuB66aTj_7z"
      }
    },
    {
      "cell_type": "code",
      "source": [
        "Write a Python function factorial that uses functools.reduce and operator.mul to compute the factorial of a non-negative integer n. The function should handle 0! correctly and raise an exception for invalid inputs."
      ],
      "metadata": {
        "id": "RUyqR3hfkGWw"
      },
      "execution_count": null,
      "outputs": []
    },
    {
      "cell_type": "code",
      "metadata": {
        "id": "f5b4a210"
      },
      "source": [
        "import functools\n",
        "import operator\n",
        "\n",
        "def factorial_reduce(n):\n",
        "  \"\"\"\n",
        "  Calculates the factorial of a non-negative integer using functools.reduce and operator.mul.\n",
        "\n",
        "  Args:\n",
        "    n: A non-negative integer.\n",
        "\n",
        "  Returns:\n",
        "    The factorial of n.\n",
        "\n",
        "  Raises:\n",
        "    ValueError: If n is a negative integer.\n",
        "  \"\"\"\n",
        "  if n < 0:\n",
        "    raise ValueError(\"Factorial is not defined for negative numbers\")\n",
        "  elif n == 0:\n",
        "    return 1\n",
        "  else:\n",
        "    return functools.reduce(operator.mul, range(1, n + 1))\n",
        "\n",
        "# Example usage\n",
        "print(factorial_reduce(5))\n",
        "print(factorial_reduce(0))\n",
        "# print(factorial_reduce(-1)) # Uncomment this line to test the ValueError"
      ],
      "execution_count": null,
      "outputs": []
    },
    {
      "cell_type": "markdown",
      "source": [
        "Certainly! This code defines a Python function called factorial_reduce that calculates the factorial of a non-negative integer using functools.reduce and operator.mul.\n",
        "\n",
        "Here's a breakdown:\n",
        "\n",
        "Import necessary modules:\n",
        "import functools: Imports the functools module, which provides tools for working with functions, including reduce.\n",
        "import operator: Imports the operator module, which provides functions corresponding to Python's intrinsic operators, including mul (multiplication).\n",
        "Function Definition:\n",
        "def factorial_reduce(n): defines a function named factorial_reduce that takes one argument, n.\n",
        "Docstring:\n",
        "The triple-quoted string is a docstring, explaining what the function does, its arguments (Args), what it returns (Returns), and potential errors it raises (Raises).\n",
        "Handling Negative Input:\n",
        "if n < 0: checks if the input n is negative.\n",
        "raise ValueError(\"Factorial is not defined for negative numbers\") raises a ValueError with a descriptive message if n is negative.\n",
        "Handling Zero:\n",
        "elif n == 0: checks if the input n is zero.\n",
        "return 1 returns 1, as the factorial of 0 is defined as 1.\n",
        "Calculating Factorial for Positive Integers using reduce:\n",
        "else: handles the case where n is a positive integer.\n",
        "range(1, n + 1) creates a sequence of numbers from 1 up to and including n.\n",
        "functools.reduce(operator.mul, range(1, n + 1)) applies the operator.mul function cumulatively to the items of the range sequence, from left to right, so as to reduce the sequence to a single value. In this case, it multiplies all the numbers in the sequence together.\n",
        "return functools.reduce(...) returns the final calculated factorial.\n",
        "Example Usage:\n",
        "print(factorial_reduce(5)) calls the function with n=5 and prints the result (120).\n",
        "print(factorial_reduce(0)) calls the function with n=0 and prints the result (1).\n",
        "# print(factorial_reduce(-1)) is a commented-out line that, if uncommented, would call the function with n=-1 and demonstrate the ValueError being raised.\n"
      ],
      "metadata": {
        "id": "ev8TxjwwkWTI"
      }
    },
    {
      "cell_type": "code",
      "source": [
        "Write a Python function sort_numbers(numbers) that takes a list of integers and returns a new list with the numbers sorted in ascending order without using the built-in sorted() function.\n",
        "Example:\n",
        "Input: [5, 2, 9, 1, 5, 6]\n",
        "Output: [1, 2, 5, 5, 6, 9]"
      ],
      "metadata": {
        "id": "RuDT6nrMkbJH"
      },
      "execution_count": null,
      "outputs": []
    },
    {
      "cell_type": "code",
      "metadata": {
        "id": "96375454"
      },
      "source": [
        "def sort_numbers(numbers):\n",
        "  \"\"\"\n",
        "  Sorts a list of integers in ascending order without using the built-in sorted() function.\n",
        "\n",
        "  Args:\n",
        "    numbers: A list of integers.\n",
        "\n",
        "  Returns:\n",
        "    A new list with the numbers sorted in ascending order.\n",
        "  \"\"\"\n",
        "  n = len(numbers)\n",
        "  # Create a copy of the list to avoid modifying the original\n",
        "  sorted_numbers = numbers[:]\n",
        "\n",
        "  # Bubble sort algorithm\n",
        "  for i in range(n):\n",
        "    # Last i elements are already in place\n",
        "    for j in range(0, n - i - 1):\n",
        "      # Traverse the list from 0 to n-i-1\n",
        "      # Swap if the element found is greater than the next element\n",
        "      if sorted_numbers[j] > sorted_numbers[j + 1]:\n",
        "        sorted_numbers[j], sorted_numbers[j + 1] = sorted_numbers[j + 1], sorted_numbers[j]\n",
        "\n",
        "  return sorted_numbers\n",
        "\n",
        "# Example usage\n",
        "input_list = [5, 2, 9, 1, 5, 6]\n",
        "sorted_list = sort_numbers(input_list)\n",
        "print(sorted_list)"
      ],
      "execution_count": null,
      "outputs": []
    },
    {
      "cell_type": "markdown",
      "source": [
        "Certainly! This code defines a Python function called sort_numbers that sorts a list of integers in ascending order without using the built-in sorted() function. It implements the Bubble Sort algorithm.\n",
        "\n",
        "Here's a breakdown:\n",
        "\n",
        "Function Definition:\n",
        "def sort_numbers(numbers): defines a function named sort_numbers that takes one argument, numbers, which is expected to be a list of integers.\n",
        "Docstring:\n",
        "The triple-quoted string is a docstring, explaining what the function does, its arguments (Args), and what it returns (Returns).\n",
        "Get List Length and Create a Copy:\n",
        "n = len(numbers) gets the number of elements in the input list and stores it in the variable n.\n",
        "sorted_numbers = numbers[:] creates a shallow copy of the input list numbers and assigns it to sorted_numbers. This is important so that the original list is not modified by the sorting process.\n",
        "Bubble Sort Algorithm:\n",
        "The code implements the Bubble Sort algorithm, which repeatedly steps through the list, compares adjacent elements and swaps them if they are in the wrong order. The pass through the list is repeated until the list is sorted.\n",
        "for i in range(n): This outer loop controls the number of passes through the list. In each pass, at least one element is placed in its correct sorted position at the end of the unsorted portion of the list.\n",
        "for j in range(0, n - i - 1): This inner loop iterates through the unsorted portion of the list. The - i - 1 part is because after each pass of the outer loop, the last i elements are already in their sorted positions.\n",
        "if sorted_numbers[j] > sorted_numbers[j + 1]: This condition checks if the current element (sorted_numbers[j]) is greater than the next element (sorted_numbers[j + 1]).\n",
        "sorted_numbers[j], sorted_numbers[j + 1] = sorted_numbers[j + 1], sorted_numbers[j] This is the swap operation. If the condition is true (the elements are in the wrong order), this line swaps the positions of the two adjacent elements.\n",
        "Return Sorted List:\n",
        "return sorted_numbers returns the new list sorted_numbers which now contains the elements from the original input list sorted in ascending order.\n",
        "Example Usage:\n",
        "input_list = [5, 2, 9, 1, 5, 6] creates an example input list.\n",
        "sorted_list = sort_numbers(input_list) calls the sort_numbers function with the example list and stores the returned sorted list in sorted_list.\n",
        "print(sorted_list) prints the sorted list.\n"
      ],
      "metadata": {
        "id": "zZ5gXmJqlDkO"
      }
    },
    {
      "cell_type": "code",
      "source": [
        "Generate python code to calculate power bill” and improve it step-by-step"
      ],
      "metadata": {
        "id": "KH1moSrwnjvc"
      },
      "execution_count": null,
      "outputs": []
    },
    {
      "cell_type": "code",
      "metadata": {
        "colab": {
          "base_uri": "https://localhost:8080/"
        },
        "id": "1dc937f3",
        "outputId": "319ddac2-afab-45ea-9e51-f2d37924469a"
      },
      "source": [
        "def calculate_power_bill_tiered(consumption_kwh, tiers):\n",
        "  \"\"\"\n",
        "  Calculates a power bill based on consumption and tiered rates.\n",
        "\n",
        "  Args:\n",
        "    consumption_kwh: The total electricity consumption in kWh.\n",
        "    tiers: A list of tuples, where each tuple is (limit, rate).\n",
        "           The limit is the upper bound of the tier (exclusive), and rate is the cost per kWh for that tier.\n",
        "           Tiers should be sorted by limit in ascending order.\n",
        "\n",
        "  Returns:\n",
        "    The total power bill amount.\n",
        "\n",
        "  Raises:\n",
        "    ValueError: If consumption is negative or tiers are not provided correctly.\n",
        "  \"\"\"\n",
        "  if consumption_kwh < 0:\n",
        "    raise ValueError(\"Consumption cannot be negative.\")\n",
        "  if not tiers:\n",
        "      raise ValueError(\"Tier information must be provided.\")\n",
        "\n",
        "  total_bill = 0\n",
        "  remaining_consumption = consumption_kwh\n",
        "  previous_limit = 0\n",
        "\n",
        "  for limit, rate in tiers:\n",
        "    if remaining_consumption <= 0:\n",
        "      break\n",
        "\n",
        "    tier_consumption = min(remaining_consumption, limit - previous_limit)\n",
        "    total_bill += tier_consumption * rate\n",
        "    remaining_consumption -= tier_consumption\n",
        "    previous_limit = limit\n",
        "\n",
        "  # If there's remaining consumption after the last tier\n",
        "  if remaining_consumption > 0:\n",
        "      # Assuming the last tier rate applies to consumption beyond its limit\n",
        "      last_rate = tiers[-1][1]\n",
        "      total_bill += remaining_consumption * last_rate\n",
        "\n",
        "\n",
        "  return total_bill\n",
        "\n",
        "# Example usage with tiered pricing\n",
        "tiers_example = [(100, 0.10), (300, 0.15), (float('inf'), 0.20)] # Example tiers: first 100 at 0.10, next 200 at 0.15, anything above 300 at 0.20\n",
        "\n",
        "consumption_1 = 150  # kWh\n",
        "bill_1 = calculate_power_bill_tiered(consumption_1, tiers_example)\n",
        "print(f\"Tiered power bill for {consumption_1} kWh: ${bill_1:.2f}\")\n",
        "\n",
        "consumption_2 = 50  # kWh\n",
        "bill_2 = calculate_power_bill_tiered(consumption_2, tiers_example)\n",
        "print(f\"Tiered power bill for {consumption_2} kWh: ${bill_2:.2f}\")\n",
        "\n",
        "consumption_3 = 400  # kWh\n",
        "bill_3 = calculate_power_bill_tiered(consumption_3, tiers_example)\n",
        "print(f\"Tiered power bill for {consumption_3} kWh: ${bill_3:.2f}\")"
      ],
      "execution_count": 10,
      "outputs": [
        {
          "output_type": "stream",
          "name": "stdout",
          "text": [
            "Tiered power bill for 150 kWh: $17.50\n",
            "Tiered power bill for 50 kWh: $5.00\n",
            "Tiered power bill for 400 kWh: $60.00\n"
          ]
        }
      ]
    },
    {
      "cell_type": "markdown",
      "metadata": {
        "id": "37de9058"
      },
      "source": [
        "This code defines the `calculate_power_bill_tiered` function, which calculates a power bill based on consumption and tiered rates.\n",
        "\n",
        "Here's a breakdown of the key parts:\n",
        "\n",
        "1.  **Function Definition:**\n",
        "    *   `def calculate_power_bill_tiered(consumption_kwh, tiers):` defines the function that takes `consumption_kwh` and a list of `tiers` as arguments.\n",
        "\n",
        "2.  **Tiered Pricing Logic:**\n",
        "    *   `tiers`: This argument is a list of tuples, where each tuple represents a tier with a `limit` (the upper bound of consumption for that tier) and a `rate` (the cost per kWh within that tier). The tiers should be sorted by their limits in ascending order.\n",
        "    *   The code iterates through the `tiers` list to calculate the cost for the consumption falling within each tier.\n",
        "    *   `remaining_consumption`: Keeps track of the consumption that still needs to be billed across the tiers.\n",
        "    *   `previous_limit`: Stores the upper limit of the previous tier to calculate the consumption within the current tier's range.\n",
        "    *   `tier_consumption = min(remaining_consumption, limit - previous_limit)`: This is the core of the tiered calculation. It determines how much of the `remaining_consumption` falls within the current tier's range (`limit - previous_limit`).\n",
        "    *   `total_bill += tier_consumption * rate`: The charge for the consumption in the current tier is calculated and added to the `total_bill`.\n",
        "    *   `remaining_consumption -= tier_consumption`: The billed consumption for the current tier is subtracted from `remaining_consumption`.\n",
        "    *   `previous_limit = limit`: The current tier's limit becomes the `previous_limit` for the next iteration.\n",
        "\n",
        "3.  **Handling Consumption Beyond the Last Tier:**\n",
        "    *   `if remaining_consumption > 0:`: After iterating through all defined tiers, if there is still `remaining_consumption`, this block handles it.\n",
        "    *   `last_rate = tiers[-1][1]`: It assumes that any consumption beyond the last defined tier is billed at the rate of the last tier.\n",
        "    *   `total_bill += remaining_consumption * last_rate`: The remaining consumption is billed at the last tier's rate and added to the total bill.\n",
        "\n",
        "4.  **Input Validation:**\n",
        "    *   Basic validation is included to check for negative consumption and ensure that tier information is provided.\n",
        "\n",
        "5.  **Example Usage:**\n",
        "    *   The example usage demonstrates how to call the function with different consumption values and the defined `tiers_example` to calculate the tiered power bill."
      ]
    },
    {
      "cell_type": "code",
      "source": [
        "Write structured comments to help AI generate two linked functions (e.g., login_user() and register_user())."
      ],
      "metadata": {
        "id": "01TcixdXodR6"
      },
      "execution_count": null,
      "outputs": []
    },
    {
      "cell_type": "code",
      "metadata": {
        "id": "97015db8"
      },
      "source": [
        "# Function 1: register_user\n",
        "# Purpose: To register a new user with a username and password.\n",
        "# Arguments:\n",
        "# - username (str): The desired username for the new user.\n",
        "# - password (str): The desired password for the new user.\n",
        "# Returns:\n",
        "# - bool: True if registration is successful, False otherwise (e.g., username already exists).\n",
        "# Side Effects:\n",
        "# - Stores the new user's credentials (e.g., in a database or file).\n",
        "# Linked Function: login_user - A user must be registered before they can log in.\n",
        "\n",
        "# Function 2: login_user\n",
        "# Purpose: To authenticate an existing user based on their username and password.\n",
        "# Arguments:\n",
        "# - username (str): The username of the user attempting to log in.\n",
        "# - password (str): The password provided by the user.\n",
        "# Returns:\n",
        "# - bool: True if login is successful (credentials match a registered user), False otherwise.\n",
        "# Dependencies:\n",
        "# - Requires users to be previously registered via the register_user function.\n",
        "# Linked Function: register_user - Users log in after being registered.\n",
        "\n",
        "\n",
        "# --- AI Generation Area ---\n",
        "# Based on the structured comments above, generate the Python code for\n",
        "# the register_user and login_user functions.\n",
        "# Ensure the functions interact as described (registration precedes login).\n",
        "# You can use a simple in-memory dictionary to simulate storing user credentials for this example.\n",
        "\n",
        "# Example Usage (after generating the functions):\n",
        "# if register_user(\"testuser\", \"password123\"):\n",
        "#     print(\"User registered successfully.\")\n",
        "#     if login_user(\"testuser\", \"password123\"):\n",
        "#         print(\"User logged in successfully.\")\n",
        "#     else:\n",
        "#         print(\"Login failed.\")\n",
        "# else:\n",
        "#     print(\"Registration failed (user might already exist).\")"
      ],
      "execution_count": 11,
      "outputs": []
    },
    {
      "cell_type": "code",
      "metadata": {
        "colab": {
          "base_uri": "https://localhost:8080/"
        },
        "id": "701f27be",
        "outputId": "319da9cd-0680-49c3-e6c0-40c90c9a9536"
      },
      "source": [
        "# In-memory dictionary to store user credentials (username: password)\n",
        "users_db = {}\n",
        "\n",
        "def register_user(username, password):\n",
        "  \"\"\"\n",
        "  Registers a new user with a username and password.\n",
        "\n",
        "  Args:\n",
        "    username (str): The desired username for the new user.\n",
        "    password (str): The desired password for the new user.\n",
        "\n",
        "  Returns:\n",
        "    bool: True if registration is successful, False otherwise (e.g., username already exists).\n",
        "  \"\"\"\n",
        "  if username in users_db:\n",
        "    print(f\"Registration failed: Username '{username}' already exists.\")\n",
        "    return False\n",
        "  else:\n",
        "    users_db[username] = password\n",
        "    print(f\"User '{username}' registered successfully.\")\n",
        "    return True\n",
        "\n",
        "def login_user(username, password):\n",
        "  \"\"\"\n",
        "  Authenticates an existing user based on their username and password.\n",
        "\n",
        "  Args:\n",
        "    username (str): The username of the user attempting to log in.\n",
        "    password (str): The password provided by the user.\n",
        "\n",
        "  Returns:\n",
        "    bool: True if login is successful (credentials match a registered user), False otherwise.\n",
        "  \"\"\"\n",
        "  if username in users_db and users_db[username] == password:\n",
        "    print(f\"User '{username}' logged in successfully.\")\n",
        "    return True\n",
        "  else:\n",
        "    print(f\"Login failed for user '{username}'.\")\n",
        "    return False\n",
        "\n",
        "# Example Usage (from the structured comments)\n",
        "if register_user(\"testuser\", \"password123\"):\n",
        "    print(\"User registered successfully.\")\n",
        "    if login_user(\"testuser\", \"password123\"):\n",
        "        print(\"User logged in successfully.\")\n",
        "    else:\n",
        "        print(\"Login failed.\")\n",
        "else:\n",
        "    print(\"Registration failed (user might already exist).\")\n",
        "\n",
        "# Example of attempting to register the same user again\n",
        "if register_user(\"testuser\", \"anotherpassword\"):\n",
        "    print(\"User registered successfully (second attempt).\")\n",
        "else:\n",
        "    print(\"Registration failed (user might already exist - second attempt).\")\n",
        "\n",
        "# Example of attempting to log in with incorrect password\n",
        "if login_user(\"testuser\", \"wrongpassword\"):\n",
        "    print(\"User logged in successfully (incorrect password attempt).\")\n",
        "else:\n",
        "    print(\"Login failed (incorrect password attempt).\")\n",
        "\n",
        "# Example of attempting to log in with a non-existent user\n",
        "if login_user(\"nonexistentuser\", \"somepassword\"):\n",
        "    print(\"User logged in successfully (non-existent user attempt).\")\n",
        "else:\n",
        "    print(\"Login failed (non-existent user attempt).\")"
      ],
      "execution_count": 12,
      "outputs": [
        {
          "output_type": "stream",
          "name": "stdout",
          "text": [
            "User 'testuser' registered successfully.\n",
            "User registered successfully.\n",
            "User 'testuser' logged in successfully.\n",
            "User logged in successfully.\n",
            "Registration failed: Username 'testuser' already exists.\n",
            "Registration failed (user might already exist - second attempt).\n",
            "Login failed for user 'testuser'.\n",
            "Login failed (incorrect password attempt).\n",
            "Login failed for user 'nonexistentuser'.\n",
            "Login failed (non-existent user attempt).\n"
          ]
        }
      ]
    },
    {
      "cell_type": "markdown",
      "source": [
        "Certainly! This code defines two Python functions, register_user and login_user, to simulate a basic user registration and login system using an in-memory dictionary to store credentials.\n",
        "\n",
        "Here's a breakdown:\n",
        "\n",
        "users_db = {}:\n",
        "This line initializes an empty dictionary called users_db. This dictionary serves as a simple, temporary database to store usernames as keys and their corresponding passwords as values. Since it's in-memory, the data will be lost when the Colab session ends.\n",
        "register_user(username, password) function:\n",
        "Purpose: This function attempts to register a new user.\n",
        "if username in users_db:: It checks if the username already exists as a key in the users_db dictionary.\n",
        "If the username exists, it prints a \"Registration failed\" message and returns False.\n",
        "else:: If the username does not exist, the code proceeds to register the user.\n",
        "users_db[username] = password: This line adds the new username as a key to the users_db dictionary and sets its value to the provided password.\n",
        "It then prints a \"User registered successfully\" message and returns True.\n",
        "login_user(username, password) function:\n",
        "Purpose: This function attempts to authenticate an existing user.\n",
        "if username in users_db and users_db[username] == password:: This is the core authentication check. It first verifies if the username exists in the users_db. If it does, it then checks if the provided password matches the password stored for that username in the dictionary.\n",
        "If both conditions are true (username exists and password matches), it prints a \"User logged in successfully\" message and returns True.\n",
        "else:: If the username does not exist or the password does not match, it prints a \"Login failed\" message and returns False.\n",
        "Example Usage:\n",
        "The code includes examples demonstrating how to use both functions:\n",
        "Attempting to register a new user and then logging in with those credentials.\n",
        "Attempting to register the same user again to show the failure case.\n",
        "Attempting to log in with an incorrect password for an existing user.\n",
        "Attempting to log in with a username that does not exist in the users_db.\n",
        "In summary, this code provides a basic demonstration of how you might implement user registration and login logic in Python, using a dictionary for temporary storage and including checks for existing users and correct passwords.\n",
        "\n"
      ],
      "metadata": {
        "id": "PXMxCdNxoti9"
      }
    },
    {
      "cell_type": "code",
      "source": [
        "Write a Python function celsius_to_fahrenheit(celsius) that converts a given temperature in Celsius to Fahrenheit using the formula F = C × 9/5 + 32.\n",
        "\n",
        "Input: celsius may be an integer or float.\n",
        "\n",
        "Output: Return the Fahrenheit value as a float rounded to two decimal places.\n",
        "\n",
        "If input is not a number, raise a TypeError."
      ],
      "metadata": {
        "id": "hFKHhz54o1RL"
      },
      "execution_count": null,
      "outputs": []
    },
    {
      "cell_type": "code",
      "metadata": {
        "colab": {
          "base_uri": "https://localhost:8080/"
        },
        "id": "d13c15b6",
        "outputId": "0cd6c387-11a1-4611-9a16-05b20a0519dc"
      },
      "source": [
        "def celsius_to_fahrenheit(celsius):\n",
        "  \"\"\"\n",
        "  Converts a temperature from Celsius to Fahrenheit.\n",
        "\n",
        "  Args:\n",
        "    celsius: The temperature in Celsius (integer or float).\n",
        "\n",
        "  Returns:\n",
        "    The temperature in Fahrenheit as a float, rounded to two decimal places.\n",
        "\n",
        "  Raises:\n",
        "    TypeError: If the input is not an integer or float.\n",
        "  \"\"\"\n",
        "  if not isinstance(celsius, (int, float)):\n",
        "    raise TypeError(\"Input must be a number (integer or float).\")\n",
        "\n",
        "  fahrenheit = (celsius * 9/5) + 32\n",
        "  return round(fahrenheit, 2)\n",
        "\n",
        "# Example usage\n",
        "print(celsius_to_fahrenheit(0))\n",
        "print(celsius_to_fahrenheit(25.5))\n",
        "print(celsius_to_fahrenheit(-10))\n",
        "\n",
        "# Example of invalid input (uncomment to test TypeError)\n",
        "# print(celsius_to_fahrenheit(\"hello\"))\n",
        "# print(celsius_to_fahrenheit([1, 2]))"
      ],
      "execution_count": 13,
      "outputs": [
        {
          "output_type": "stream",
          "name": "stdout",
          "text": [
            "32.0\n",
            "77.9\n",
            "14.0\n"
          ]
        }
      ]
    },
    {
      "cell_type": "markdown",
      "source": [
        "Certainly! This code defines a Python function called celsius_to_fahrenheit that converts a given temperature from Celsius to Fahrenheit.\n",
        "\n",
        "Here's a breakdown:\n",
        "\n",
        "Function Definition:\n",
        "def celsius_to_fahrenheit(celsius): defines a function named celsius_to_fahrenheit that takes one argument, celsius, which is the temperature in Celsius.\n",
        "Docstring:\n",
        "The triple-quoted string is a docstring, explaining what the function does, its arguments (Args), what it returns (Returns), and the potential error it raises (Raises).\n",
        "Input Type Validation:\n",
        "if not isinstance(celsius, (int, float)): checks if the input celsius is not an instance of either an integer (int) or a floating-point number (float).\n",
        "raise TypeError(\"Input must be a number (integer or float).\") raises a TypeError with a descriptive message if the input is not a number, as specified in the requirements.\n",
        "Fahrenheit Calculation:\n",
        "fahrenheit = (celsius * 9/5) + 32 applies the conversion formula: multiply the Celsius temperature by 9/5 and then add 32 to get the temperature in Fahrenheit.\n",
        "Rounding and Return Value:\n",
        "return round(fahrenheit, 2) rounds the calculated fahrenheit value to two decimal places using the round() function and then returns this rounded value.\n",
        "Example Usage:\n",
        "The code includes examples demonstrating how to use the function with different Celsius temperatures (0, 25.5, and -10) and prints the resulting Fahrenheit values.\n",
        "There are also commented-out examples (# print(celsius_to_fahrenheit(\"hello\")) and # print(celsius_to_fahrenheit([1, 2]))) that you can uncomment to test the TypeError handling with invalid input types.\n"
      ],
      "metadata": {
        "id": "A3BWHO4vpap5"
      }
    }
  ]
}